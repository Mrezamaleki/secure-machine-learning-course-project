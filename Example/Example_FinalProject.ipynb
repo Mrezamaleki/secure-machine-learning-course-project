{
  "nbformat": 4,
  "nbformat_minor": 0,
  "metadata": {
    "colab": {
      "provenance": []
    },
    "kernelspec": {
      "name": "python3",
      "display_name": "Python 3"
    },
    "language_info": {
      "name": "python"
    }
  },
  "cells": [
    {
      "cell_type": "code",
      "execution_count": null,
      "metadata": {
        "colab": {
          "base_uri": "https://localhost:8080/"
        },
        "id": "UdddvLscAO4w",
        "outputId": "0eb94815-6061-44c1-cb02-89156e93f105"
      },
      "outputs": [
        {
          "output_type": "stream",
          "name": "stdout",
          "text": [
            "Looking in indexes: https://pypi.org/simple, https://us-python.pkg.dev/colab-wheels/public/simple/\n",
            "Requirement already satisfied: diffprivlib in /usr/local/lib/python3.8/dist-packages (0.6.2)\n",
            "Requirement already satisfied: numpy>=1.21.6 in /usr/local/lib/python3.8/dist-packages (from diffprivlib) (1.21.6)\n",
            "Requirement already satisfied: setuptools>=49.0.0 in /usr/local/lib/python3.8/dist-packages (from diffprivlib) (57.4.0)\n",
            "Requirement already satisfied: scikit-learn>=0.24.2 in /usr/local/lib/python3.8/dist-packages (from diffprivlib) (1.0.2)\n",
            "Requirement already satisfied: joblib>=0.16.0 in /usr/local/lib/python3.8/dist-packages (from diffprivlib) (1.2.0)\n",
            "Requirement already satisfied: scipy>=1.7.3 in /usr/local/lib/python3.8/dist-packages (from diffprivlib) (1.7.3)\n",
            "Requirement already satisfied: threadpoolctl>=2.0.0 in /usr/local/lib/python3.8/dist-packages (from scikit-learn>=0.24.2->diffprivlib) (3.1.0)\n"
          ]
        }
      ],
      "source": [
        "#libraries\n",
        "import numpy as np\n",
        "import pandas as pd\n",
        "from sklearn.preprocessing import MinMaxScaler, LabelEncoder\n",
        "from google.colab import files\n",
        "!pip install diffprivlib\n",
        "import matplotlib.pyplot as plt\n",
        "from sklearn.cluster import KMeans\n",
        "from diffprivlib import models\n",
        "import math\n",
        "import random\n",
        "import seaborn as sns\n",
        "import pandas_profiling as pp\n",
        "import matplotlib.pyplot as plt\n",
        "%matplotlib inline\n",
        "\n",
        "# Preprocessing\n",
        "import sklearn\n",
        "from sklearn.preprocessing import LabelEncoder, StandardScaler, MinMaxScaler, RobustScaler\n",
        "from sklearn.model_selection import train_test_split, GridSearchCV, StratifiedKFold, learning_curve, ShuffleSplit\n",
        "from sklearn.model_selection import cross_val_predict as cvp\n",
        "from sklearn import metrics\n",
        "from sklearn.metrics import mean_absolute_error, mean_squared_error, accuracy_score, confusion_matrix, explained_variance_score, classification_report\n",
        "\n",
        "# Models\n",
        "from sklearn.ensemble import RandomForestClassifier, ExtraTreesClassifier \n",
        "from sklearn.ensemble import AdaBoostClassifier\n",
        "from sklearn.ensemble import RandomForestClassifier\n",
        "from sklearn.tree import DecisionTreeClassifier, plot_tree\n",
        "from sklearn import metrics\n",
        "import xgboost as xgb\n",
        "from xgboost import XGBClassifier\n",
        "import lightgbm as lgb\n",
        "from lightgbm import LGBMClassifier\n",
        "\n",
        "import warnings\n",
        "warnings.filterwarnings(\"ignore\")"
      ]
    },
    {
      "cell_type": "code",
      "source": [
        "uploaded_file = files.upload()\n",
        "data=pd.read_csv(\"heart_disease_uci.csv\")"
      ],
      "metadata": {
        "colab": {
          "base_uri": "https://localhost:8080/",
          "height": 74
        },
        "id": "1x8SjN1QbUhg",
        "outputId": "53263ee2-00cc-4039-cde8-97abc90d960b"
      },
      "execution_count": null,
      "outputs": [
        {
          "output_type": "display_data",
          "data": {
            "text/plain": [
              "<IPython.core.display.HTML object>"
            ],
            "text/html": [
              "\n",
              "     <input type=\"file\" id=\"files-1c09aa49-a9d2-4135-bf4e-207657f0625e\" name=\"files[]\" multiple disabled\n",
              "        style=\"border:none\" />\n",
              "     <output id=\"result-1c09aa49-a9d2-4135-bf4e-207657f0625e\">\n",
              "      Upload widget is only available when the cell has been executed in the\n",
              "      current browser session. Please rerun this cell to enable.\n",
              "      </output>\n",
              "      <script>// Copyright 2017 Google LLC\n",
              "//\n",
              "// Licensed under the Apache License, Version 2.0 (the \"License\");\n",
              "// you may not use this file except in compliance with the License.\n",
              "// You may obtain a copy of the License at\n",
              "//\n",
              "//      http://www.apache.org/licenses/LICENSE-2.0\n",
              "//\n",
              "// Unless required by applicable law or agreed to in writing, software\n",
              "// distributed under the License is distributed on an \"AS IS\" BASIS,\n",
              "// WITHOUT WARRANTIES OR CONDITIONS OF ANY KIND, either express or implied.\n",
              "// See the License for the specific language governing permissions and\n",
              "// limitations under the License.\n",
              "\n",
              "/**\n",
              " * @fileoverview Helpers for google.colab Python module.\n",
              " */\n",
              "(function(scope) {\n",
              "function span(text, styleAttributes = {}) {\n",
              "  const element = document.createElement('span');\n",
              "  element.textContent = text;\n",
              "  for (const key of Object.keys(styleAttributes)) {\n",
              "    element.style[key] = styleAttributes[key];\n",
              "  }\n",
              "  return element;\n",
              "}\n",
              "\n",
              "// Max number of bytes which will be uploaded at a time.\n",
              "const MAX_PAYLOAD_SIZE = 100 * 1024;\n",
              "\n",
              "function _uploadFiles(inputId, outputId) {\n",
              "  const steps = uploadFilesStep(inputId, outputId);\n",
              "  const outputElement = document.getElementById(outputId);\n",
              "  // Cache steps on the outputElement to make it available for the next call\n",
              "  // to uploadFilesContinue from Python.\n",
              "  outputElement.steps = steps;\n",
              "\n",
              "  return _uploadFilesContinue(outputId);\n",
              "}\n",
              "\n",
              "// This is roughly an async generator (not supported in the browser yet),\n",
              "// where there are multiple asynchronous steps and the Python side is going\n",
              "// to poll for completion of each step.\n",
              "// This uses a Promise to block the python side on completion of each step,\n",
              "// then passes the result of the previous step as the input to the next step.\n",
              "function _uploadFilesContinue(outputId) {\n",
              "  const outputElement = document.getElementById(outputId);\n",
              "  const steps = outputElement.steps;\n",
              "\n",
              "  const next = steps.next(outputElement.lastPromiseValue);\n",
              "  return Promise.resolve(next.value.promise).then((value) => {\n",
              "    // Cache the last promise value to make it available to the next\n",
              "    // step of the generator.\n",
              "    outputElement.lastPromiseValue = value;\n",
              "    return next.value.response;\n",
              "  });\n",
              "}\n",
              "\n",
              "/**\n",
              " * Generator function which is called between each async step of the upload\n",
              " * process.\n",
              " * @param {string} inputId Element ID of the input file picker element.\n",
              " * @param {string} outputId Element ID of the output display.\n",
              " * @return {!Iterable<!Object>} Iterable of next steps.\n",
              " */\n",
              "function* uploadFilesStep(inputId, outputId) {\n",
              "  const inputElement = document.getElementById(inputId);\n",
              "  inputElement.disabled = false;\n",
              "\n",
              "  const outputElement = document.getElementById(outputId);\n",
              "  outputElement.innerHTML = '';\n",
              "\n",
              "  const pickedPromise = new Promise((resolve) => {\n",
              "    inputElement.addEventListener('change', (e) => {\n",
              "      resolve(e.target.files);\n",
              "    });\n",
              "  });\n",
              "\n",
              "  const cancel = document.createElement('button');\n",
              "  inputElement.parentElement.appendChild(cancel);\n",
              "  cancel.textContent = 'Cancel upload';\n",
              "  const cancelPromise = new Promise((resolve) => {\n",
              "    cancel.onclick = () => {\n",
              "      resolve(null);\n",
              "    };\n",
              "  });\n",
              "\n",
              "  // Wait for the user to pick the files.\n",
              "  const files = yield {\n",
              "    promise: Promise.race([pickedPromise, cancelPromise]),\n",
              "    response: {\n",
              "      action: 'starting',\n",
              "    }\n",
              "  };\n",
              "\n",
              "  cancel.remove();\n",
              "\n",
              "  // Disable the input element since further picks are not allowed.\n",
              "  inputElement.disabled = true;\n",
              "\n",
              "  if (!files) {\n",
              "    return {\n",
              "      response: {\n",
              "        action: 'complete',\n",
              "      }\n",
              "    };\n",
              "  }\n",
              "\n",
              "  for (const file of files) {\n",
              "    const li = document.createElement('li');\n",
              "    li.append(span(file.name, {fontWeight: 'bold'}));\n",
              "    li.append(span(\n",
              "        `(${file.type || 'n/a'}) - ${file.size} bytes, ` +\n",
              "        `last modified: ${\n",
              "            file.lastModifiedDate ? file.lastModifiedDate.toLocaleDateString() :\n",
              "                                    'n/a'} - `));\n",
              "    const percent = span('0% done');\n",
              "    li.appendChild(percent);\n",
              "\n",
              "    outputElement.appendChild(li);\n",
              "\n",
              "    const fileDataPromise = new Promise((resolve) => {\n",
              "      const reader = new FileReader();\n",
              "      reader.onload = (e) => {\n",
              "        resolve(e.target.result);\n",
              "      };\n",
              "      reader.readAsArrayBuffer(file);\n",
              "    });\n",
              "    // Wait for the data to be ready.\n",
              "    let fileData = yield {\n",
              "      promise: fileDataPromise,\n",
              "      response: {\n",
              "        action: 'continue',\n",
              "      }\n",
              "    };\n",
              "\n",
              "    // Use a chunked sending to avoid message size limits. See b/62115660.\n",
              "    let position = 0;\n",
              "    do {\n",
              "      const length = Math.min(fileData.byteLength - position, MAX_PAYLOAD_SIZE);\n",
              "      const chunk = new Uint8Array(fileData, position, length);\n",
              "      position += length;\n",
              "\n",
              "      const base64 = btoa(String.fromCharCode.apply(null, chunk));\n",
              "      yield {\n",
              "        response: {\n",
              "          action: 'append',\n",
              "          file: file.name,\n",
              "          data: base64,\n",
              "        },\n",
              "      };\n",
              "\n",
              "      let percentDone = fileData.byteLength === 0 ?\n",
              "          100 :\n",
              "          Math.round((position / fileData.byteLength) * 100);\n",
              "      percent.textContent = `${percentDone}% done`;\n",
              "\n",
              "    } while (position < fileData.byteLength);\n",
              "  }\n",
              "\n",
              "  // All done.\n",
              "  yield {\n",
              "    response: {\n",
              "      action: 'complete',\n",
              "    }\n",
              "  };\n",
              "}\n",
              "\n",
              "scope.google = scope.google || {};\n",
              "scope.google.colab = scope.google.colab || {};\n",
              "scope.google.colab._files = {\n",
              "  _uploadFiles,\n",
              "  _uploadFilesContinue,\n",
              "};\n",
              "})(self);\n",
              "</script> "
            ]
          },
          "metadata": {}
        },
        {
          "output_type": "stream",
          "name": "stdout",
          "text": [
            "Saving heart_disease_uci.csv to heart_disease_uci (3).csv\n"
          ]
        }
      ]
    },
    {
      "cell_type": "code",
      "source": [
        "data.drop(['id','dataset'], axis=1, inplace=True)\n",
        "print(data.info())"
      ],
      "metadata": {
        "id": "ogmaQSSOcYvr",
        "colab": {
          "base_uri": "https://localhost:8080/"
        },
        "outputId": "fe34188e-2f6a-4a9a-b0bd-3e84771d763b"
      },
      "execution_count": null,
      "outputs": [
        {
          "output_type": "stream",
          "name": "stdout",
          "text": [
            "<class 'pandas.core.frame.DataFrame'>\n",
            "RangeIndex: 920 entries, 0 to 919\n",
            "Data columns (total 14 columns):\n",
            " #   Column    Non-Null Count  Dtype  \n",
            "---  ------    --------------  -----  \n",
            " 0   age       920 non-null    int64  \n",
            " 1   sex       920 non-null    object \n",
            " 2   cp        920 non-null    object \n",
            " 3   trestbps  861 non-null    float64\n",
            " 4   chol      890 non-null    float64\n",
            " 5   fbs       830 non-null    object \n",
            " 6   restecg   918 non-null    object \n",
            " 7   thalch    865 non-null    float64\n",
            " 8   exang     865 non-null    object \n",
            " 9   oldpeak   858 non-null    float64\n",
            " 10  slope     611 non-null    object \n",
            " 11  ca        309 non-null    float64\n",
            " 12  thal      434 non-null    object \n",
            " 13  num       920 non-null    int64  \n",
            "dtypes: float64(5), int64(2), object(7)\n",
            "memory usage: 100.8+ KB\n",
            "None\n"
          ]
        }
      ]
    },
    {
      "cell_type": "code",
      "source": [
        "# Drop columns with a great number of missing values and reassign datatypes\n",
        "\n",
        "data.drop(labels=['ca','thal','slope'], axis=1, inplace=True)\n",
        "data = data.astype({'sex':'category', 'cp':'category', 'fbs':'bool', 'restecg':'category', 'exang':'bool'})\n",
        "\n",
        "# Drop remaining rows with missing values and display distribution for target variables\n",
        "\n",
        "data.dropna(inplace=True)\n",
        "data.value_counts()\n",
        "# sns.countplot('num', data=data)\n",
        "# plt.show()"
      ],
      "metadata": {
        "id": "u3v8BXMtztMi",
        "colab": {
          "base_uri": "https://localhost:8080/"
        },
        "outputId": "fcad95f2-0fba-41d0-caf7-d2c8fc53124b"
      },
      "execution_count": null,
      "outputs": [
        {
          "output_type": "execute_result",
          "data": {
            "text/plain": [
              "age  sex     cp               trestbps  chol   fbs    restecg         thalch  exang  oldpeak  num\n",
              "29   Male    atypical angina  130.0     204.0  False  lv hypertrophy  202.0   False  0.0      0      1\n",
              "59   Male    typical angina   160.0     273.0  False  lv hypertrophy  125.0   False  0.0      1      1\n",
              "             non-anginal      150.0     212.0  True   normal          157.0   False  1.6      0      1\n",
              "                              126.0     218.0  True   normal          134.0   False  2.2      2      1\n",
              "             atypical angina  140.0     221.0  False  normal          164.0   True   0.0      0      1\n",
              "                                                                                                    ..\n",
              "51   Male    asymptomatic     140.0     299.0  False  normal          173.0   True   1.6      1      1\n",
              "                                        298.0  False  normal          122.0   True   4.2      3      1\n",
              "                                        261.0  False  lv hypertrophy  186.0   True   0.0      0      1\n",
              "     Female  non-anginal      140.0     308.0  False  lv hypertrophy  142.0   False  1.5      0      1\n",
              "77   Male    asymptomatic     125.0     304.0  False  lv hypertrophy  162.0   True   0.0      4      1\n",
              "Length: 299, dtype: int64"
            ]
          },
          "metadata": {},
          "execution_count": 87
        }
      ]
    },
    {
      "cell_type": "code",
      "source": [
        "data_onehot = pd.get_dummies(data, columns=['sex','cp', 'fbs', 'restecg', 'exang'])\n",
        "\n",
        "X = data_onehot.drop('num', axis=1)\n",
        "y = data_onehot.num\n",
        "\n",
        "X_train, X_test, y_train, y_test = train_test_split(X, y, test_size=0.2, random_state=42)\n",
        "\n",
        "# print(X_train.value_counts(), y_train.value_counts(), X_test.value_counts(), y_test.value_counts())\n",
        "# print(y.value_counts())\n",
        "# print(y_train.value_counts())\n",
        "# print(y_test.value_counts())\n",
        "data_onehot.info()"
      ],
      "metadata": {
        "id": "cOZuOSYltyNU",
        "colab": {
          "base_uri": "https://localhost:8080/"
        },
        "outputId": "7daf362b-0665-424e-dd75-30a14bfe1405"
      },
      "execution_count": null,
      "outputs": [
        {
          "output_type": "stream",
          "name": "stdout",
          "text": [
            "<class 'pandas.core.frame.DataFrame'>\n",
            "Int64Index: 299 entries, 0 to 748\n",
            "Data columns (total 19 columns):\n",
            " #   Column                    Non-Null Count  Dtype  \n",
            "---  ------                    --------------  -----  \n",
            " 0   age                       299 non-null    int64  \n",
            " 1   trestbps                  299 non-null    float64\n",
            " 2   chol                      299 non-null    float64\n",
            " 3   thalch                    299 non-null    float64\n",
            " 4   oldpeak                   299 non-null    float64\n",
            " 5   num                       299 non-null    int64  \n",
            " 6   sex_Female                299 non-null    uint8  \n",
            " 7   sex_Male                  299 non-null    uint8  \n",
            " 8   cp_asymptomatic           299 non-null    uint8  \n",
            " 9   cp_atypical angina        299 non-null    uint8  \n",
            " 10  cp_non-anginal            299 non-null    uint8  \n",
            " 11  cp_typical angina         299 non-null    uint8  \n",
            " 12  fbs_False                 299 non-null    uint8  \n",
            " 13  fbs_True                  299 non-null    uint8  \n",
            " 14  restecg_lv hypertrophy    299 non-null    uint8  \n",
            " 15  restecg_normal            299 non-null    uint8  \n",
            " 16  restecg_st-t abnormality  299 non-null    uint8  \n",
            " 17  exang_False               299 non-null    uint8  \n",
            " 18  exang_True                299 non-null    uint8  \n",
            "dtypes: float64(4), int64(2), uint8(13)\n",
            "memory usage: 20.1 KB\n"
          ]
        }
      ]
    },
    {
      "cell_type": "code",
      "source": [
        "weights = {0:1, 1:0.5, 2:0.5, 3:0.5, 4:0.5}\n",
        "\n",
        "trained_model = DecisionTreeClassifier(criterion='entropy', max_depth=5)\n",
        "trained_model = trained_model.fit(X_train, y_train)\n",
        "y_prediction = trained_model.predict(X_test)\n",
        "\n",
        "print(classification_report(y_test, y_prediction))"
      ],
      "metadata": {
        "id": "OU9NUWaZBe14",
        "colab": {
          "base_uri": "https://localhost:8080/"
        },
        "outputId": "2502eb3b-87b4-4217-abaf-8bb9fe932051"
      },
      "execution_count": null,
      "outputs": [
        {
          "output_type": "stream",
          "name": "stdout",
          "text": [
            "              precision    recall  f1-score   support\n",
            "\n",
            "           0       0.78      0.83      0.81        35\n",
            "           1       0.27      0.23      0.25        13\n",
            "           2       0.29      0.40      0.33         5\n",
            "           3       0.00      0.00      0.00         4\n",
            "           4       0.00      0.00      0.00         3\n",
            "\n",
            "    accuracy                           0.57        60\n",
            "   macro avg       0.27      0.29      0.28        60\n",
            "weighted avg       0.54      0.57      0.55        60\n",
            "\n"
          ]
        }
      ]
    },
    {
      "cell_type": "code",
      "source": [
        "from diffprivlib import models\n",
        "\n",
        "trained_model_dp = models.DecisionTreeClassifier(criterion='entropy', max_depth=5, epsilon= 0.1)\n",
        "trained_model_dp = trained_model_dp.fit(X_train, y_train)\n",
        "y_pred = trained_model_dp.predict(X_test)\n",
        "\n",
        "print(classification_report(y_test, y_pred))"
      ],
      "metadata": {
        "id": "mANiFmGmNTAt",
        "colab": {
          "base_uri": "https://localhost:8080/"
        },
        "outputId": "435b7d0c-a609-421e-d7bc-c6dd5405bf97"
      },
      "execution_count": null,
      "outputs": [
        {
          "output_type": "stream",
          "name": "stdout",
          "text": [
            "              precision    recall  f1-score   support\n",
            "\n",
            "           0       0.68      0.80      0.74        35\n",
            "           1       0.00      0.00      0.00        13\n",
            "           2       0.11      0.20      0.14         5\n",
            "           3       0.29      0.50      0.36         4\n",
            "           4       0.00      0.00      0.00         3\n",
            "\n",
            "    accuracy                           0.52        60\n",
            "   macro avg       0.22      0.30      0.25        60\n",
            "weighted avg       0.43      0.52      0.47        60\n",
            "\n"
          ]
        }
      ]
    },
    {
      "cell_type": "code",
      "source": [
        "%matplotlib inline\n",
        "def graph(diffprivlib_loss):\n",
        "  x=np.arange(1,2000,10)\n",
        "  y_dp=diffprivlib_loss\n",
        "  plt.plot(x,y_dp, label='Diffprivlib')\n",
        "  plt.xlabel('cluster(#)')\n",
        "  plt.ylabel('loss value')\n",
        "  plt.legend()\n",
        "  plt.show()\n",
        "\n",
        "graph(diffprivlib_accuracy)"
      ],
      "metadata": {
        "id": "0xcKRzc3W7HP",
        "outputId": "e6cd3da6-b2e8-4b50-9c0b-ba071285d0f4",
        "colab": {
          "base_uri": "https://localhost:8080/",
          "height": 366
        }
      },
      "execution_count": null,
      "outputs": [
        {
          "output_type": "display_data",
          "data": {
            "text/plain": [
              "<Figure size 432x288 with 1 Axes>"
            ],
            "image/png": "[encoded data removed]"
          },
          "metadata": {
            "needs_background": "light"
          }
        }
      ]
    },
    {
      "cell_type": "code",
      "source": [
        "from sklearn.cluster import KMeans\n",
        "# def clustering(adult, cluster):\n",
        "#     model=KMeans(cluster)\n",
        "#     model.fit(adult)\n",
        "#     value=model.inertia_\n",
        "#     return value\n",
        "\n",
        "# non_private_loss=clustering(data_onehot,5)\n",
        "\n",
        "model=KMeans(5)\n",
        "model.fit(X_test)\n",
        "y_pre=model.labels_\n"
      ],
      "metadata": {
        "id": "3-LJh9HxDCjJ"
      },
      "execution_count": null,
      "outputs": []
    },
    {
      "cell_type": "code",
      "source": [
        "success_rate=accuracy_score(y_test, y_pre)\n",
        "print(success_rate)"
      ],
      "metadata": {
        "id": "DPkuFlLeLZwr",
        "colab": {
          "base_uri": "https://localhost:8080/"
        },
        "outputId": "b4d37eb9-432c-4a1c-ae21-1aa779470598"
      },
      "execution_count": null,
      "outputs": [
        {
          "output_type": "stream",
          "name": "stdout",
          "text": [
            "0.21666666666666667\n"
          ]
        }
      ]
    },
    {
      "cell_type": "code",
      "source": [
        "model_diffprivlib=models.KMeans(5, epsilon=1)\n",
        "\n",
        "model_diffprivlib.fit(X_test)\n",
        "\n",
        "y_pre_diffpri=model_diffprivlib.labels_"
      ],
      "metadata": {
        "id": "s4O2b4FUDVdl"
      },
      "execution_count": null,
      "outputs": []
    },
    {
      "cell_type": "code",
      "source": [
        "success_rate_diffprivlib=accuracy_score(y_test, y_pre_diffpri)\n",
        "print(success_rate)"
      ],
      "metadata": {
        "id": "YQU0EEilRQeA",
        "outputId": "33f16da4-e170-43b3-affa-2ff3d85ed7c7",
        "colab": {
          "base_uri": "https://localhost:8080/"
        }
      },
      "execution_count": null,
      "outputs": [
        {
          "output_type": "stream",
          "name": "stdout",
          "text": [
            "0.21666666666666667\n"
          ]
        }
      ]
    }
  ]
}